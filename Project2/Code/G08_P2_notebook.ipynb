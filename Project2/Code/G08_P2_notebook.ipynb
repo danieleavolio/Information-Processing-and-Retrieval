{
 "cells": [
  {
   "cell_type": "markdown",
   "metadata": {},
   "source": [
    "<H3>PRI 2023/24: second\n",
    "    project delivery</H3>"
   ]
  },
  {
   "cell_type": "markdown",
   "metadata": {},
   "source": [
    "**GROUP 08**\n",
    "- Daniele Avolio    , ist1111559\n",
    "- Michele Vitale\t, ist1111558\t\n",
    "- Luís Dias\t        , ist198557"
   ]
  },
  {
   "cell_type": "markdown",
   "metadata": {},
   "source": [
    "<H2>Main facilities</H2>"
   ]
  },
  {
   "cell_type": "markdown",
   "metadata": {},
   "source": [
    "<h3>Part I: clustering</h3>"
   ]
  },
  {
   "cell_type": "markdown",
   "metadata": {},
   "source": [
    "*A) Clustering*\n",
    "\n",
    "This function takes a document, along with optional inverted index and clustering arguments, and returns the best clustering solution for the given task, determined by proper internal indices."
   ]
  },
  {
   "cell_type": "code",
   "execution_count": 1,
   "metadata": {},
   "outputs": [],
   "source": [
    "# Imports useful later\n",
    "\n",
    "import os\n",
    "import sys\n",
    "import time\n",
    "import random\n",
    "import nltk\n",
    "import scipy\n",
    "import numpy as np\n",
    "import pandas as pd\n",
    "import matplotlib.pyplot as plt\n",
    "import seaborn as sns\n",
    "from sklearn import metrics\n",
    "from sklearn import cluster \n",
    "from sklearn import model_selection\n",
    "from sklearn.feature_extraction.text import TfidfVectorizer\n",
    "\n"
   ]
  },
  {
   "cell_type": "code",
   "execution_count": 63,
   "metadata": {},
   "outputs": [],
   "source": [
    "import os  \n",
    "\n",
    "\n",
    "def read_files(location:str, skip_first_line:bool=True) -> list:\n",
    "    \"\"\"\n",
    "    Read all text files in the specified location and return their contents as a list.\n",
    "    \"\"\"\n",
    "    files_list = []\n",
    "    \n",
    "    for root, dirs, files in os.walk(location):\n",
    "        for file in files:\n",
    "            if file.endswith(\".txt\"): \n",
    "                with open(os.path.join(root, file), \"r\") as auto:\n",
    "                    if skip_first_line: auto.readline()\n",
    "                    # Skip the first line\n",
    "                    files_list.append(auto.read().strip())\n",
    "    return files_list"
   ]
  },
  {
   "cell_type": "markdown",
   "metadata": {},
   "source": [
    "We will get those from the beginning, so we won't have problems in the future."
   ]
  },
  {
   "cell_type": "code",
   "execution_count": 64,
   "metadata": {},
   "outputs": [],
   "source": [
    "documents = read_files(\"../BBC News Summary/News Articles\")\n",
    "summaries = read_files(\"../BBC News Summary/Summaries\", skip_first_line=False)"
   ]
  },
  {
   "cell_type": "code",
   "execution_count": 65,
   "metadata": {},
   "outputs": [
    {
     "name": "stdout",
     "output_type": "stream",
     "text": [
      "Ad sales boost Time Warner profit\n",
      "\n",
      "Quarterly profits at US media giant TimeWarner jumped 76% to $1.13bn (Â£600m) for the three months to December, from $639m year-earlier.\n",
      "\n",
      "The firm, which is now one of the biggest investors in Google, benefited from sales of high-speed internet connections and higher advert sales. TimeWarner said fourth quarter sales rose 2% to $11.1bn from $10.9bn. Its profits were buoyed by one-off gains which offset a profit dip at Warner Bros, and less users for AOL.\n",
      "\n",
      "Time Warner said on Friday that it now owns 8% of search-engine Google. But its own internet business, AOL, had has mixed fortunes. It lost 464,000 subscribers in the fourth quarter profits were lower than in the preceding three quarters. However, the company said AOL's underlying profit before exceptional items rose 8% on the back of stronger internet advertising revenues. It hopes to increase subscribers by offering the online service free to TimeWarner internet customers and will try to sign up AOL's existing customers for high-speed broadband. TimeWarner also has to restate 2000 and 2003 results following a probe by the US Securities Exchange Commission (SEC), which is close to concluding.\n",
      "\n",
      "Time Warner's fourth quarter profits were slightly better than analysts' expectations. But its film division saw profits slump 27% to $284m, helped by box-office flops Alexander and Catwoman, a sharp contrast to year-earlier, when the third and final film in the Lord of the Rings trilogy boosted results. For the full-year, TimeWarner posted a profit of $3.36bn, up 27% from its 2003 performance, while revenues grew 6.4% to $42.09bn. \"Our financial performance was strong, meeting or exceeding all of our full-year objectives and greatly enhancing our flexibility,\" chairman and chief executive Richard Parsons said. For 2005, TimeWarner is projecting operating earnings growth of around 5%, and also expects higher revenue and wider profit margins.\n",
      "\n",
      "TimeWarner is to restate its accounts as part of efforts to resolve an inquiry into AOL by US market regulators. It has already offered to pay $300m to settle charges, in a deal that is under review by the SEC. The company said it was unable to estimate the amount it needed to set aside for legal reserves, which it previously set at $500m. It intends to adjust the way it accounts for a deal with German music publisher Bertelsmann's purchase of a stake in AOL Europe, which it had reported as advertising revenue. It will now book the sale of its stake in AOL Europe as a loss on the value of that stake.\n",
      "\n",
      "TimeWarner said fourth quarter sales rose 2% to $11.1bn from $10.9bn.For the full-year, TimeWarner posted a profit of $3.36bn, up 27% from its 2003 performance, while revenues grew 6.4% to $42.09bn.Quarterly profits at US media giant TimeWarner jumped 76% to $1.13bn (Â£600m) for the three months to December, from $639m year-earlier.However, the company said AOL's underlying profit before exceptional items rose 8% on the back of stronger internet advertising revenues.Its profits were buoyed by one-off gains which offset a profit dip at Warner Bros, and less users for AOL.For 2005, TimeWarner is projecting operating earnings growth of around 5%, and also expects higher revenue and wider profit margins.It lost 464,000 subscribers in the fourth quarter profits were lower than in the preceding three quarters.Time Warner's fourth quarter profits were slightly better than analysts' expectations.\n"
     ]
    }
   ],
   "source": [
    "print(documents[0])\n",
    "print()\n",
    "print(summaries[0])\n"
   ]
  },
  {
   "cell_type": "code",
   "execution_count": 401,
   "metadata": {},
   "outputs": [],
   "source": [
    "# hierarchical clustering\n",
    "from sklearn.cluster import AgglomerativeClustering\n",
    "from sklearn.metrics import silhouette_score, calinski_harabasz_score\n",
    "\n",
    "\n",
    "def sentence_clustering(d: str, I: None, **kwargs):\n",
    "    # Workflow idea:\n",
    "    # 1. Split the document into sentences using nltk\n",
    "    # 2. Convert the sentences into vectors using TfIdf\n",
    "    # 3. Cluster the vectors using Hierarchical Clustering\n",
    "    # 4. Return the clusters\n",
    "\n",
    "    # Problems: How many clusters should we use?\n",
    "    # Answer: We can use the elbow method to find the optimal number of clusters\n",
    "\n",
    "    # Problems: How do we know if the clusters are good?\n",
    "    # Answer: We can use the silhouette score to evaluate the quality of the clusters\n",
    "    text = d\n",
    "\n",
    "    sentences = nltk.sent_tokenize(text)\n",
    "\n",
    "    vectorizer = TfidfVectorizer()\n",
    "    X = vectorizer.fit_transform(sentences)\n",
    "\n",
    "    # Best number of clusters\n",
    "    best_silhouette_score = -1\n",
    "    best_c_score = -1\n",
    "    best_n_clusters = 0\n",
    "\n",
    "    for n_clusters in range(2, min(len(sentences), 11)):\n",
    "        model = AgglomerativeClustering(\n",
    "            n_clusters=n_clusters, linkage=\"complete\", metric=\"cosine\"\n",
    "        )\n",
    "        labels = model.fit_predict(X.toarray())\n",
    "\n",
    "        # Calculate the silhouette score, which measures the compactness and separation of the clusters.\n",
    "        # A higher silhouette score indicates better clustering quality.\n",
    "        # It ranges from -1 to 1, with 1 being the best score.\n",
    "        # The goal is to maximize the silhouette score.\n",
    "        # Reference: https://scikit-learn.org/stable/modules/generated/sklearn.metrics.silhouette_score.html\n",
    "\n",
    "        silhouette_score_value = silhouette_score(X.toarray(), labels)\n",
    "\n",
    "        # Calculate the Calinski-Harabasz score, which measures the ratio of between-cluster dispersion to within-cluster dispersion.\n",
    "        # A higher Calinski-Harabasz score indicates better clustering quality.\n",
    "        # It is based on the analysis of variance (ANOVA) and measures the separation between clusters.\n",
    "        # The goal is to maximize the Calinski-Harabasz score.\n",
    "        # Reference: https://scikit-learn.org/stable/modules/generated/sklearn.metrics.calinski_harabasz_score.html\n",
    "        c_score = calinski_harabasz_score(X.toarray(), labels)\n",
    "\n",
    "        if silhouette_score_value > best_silhouette_score and c_score > best_c_score:\n",
    "            best_silhouette_score = silhouette_score_value\n",
    "            best_c_score = c_score\n",
    "            best_n_clusters = n_clusters\n",
    "    # print(f\"Numero ottimale di cluster: {best_n_clusters}\")\n",
    "\n",
    "    model = AgglomerativeClustering(\n",
    "        n_clusters=best_n_clusters, linkage=\"complete\", metric=\"cosine\"\n",
    "    )\n",
    "    labels = model.fit_predict(X.toarray())\n",
    "\n",
    "    # 5. Costruisci la soluzione di clustering\n",
    "    cluster_solution = {}\n",
    "    for i, label in enumerate(labels):\n",
    "        if label not in cluster_solution:\n",
    "            cluster_solution[label] = []\n",
    "        cluster_solution[label].append(sentences[i])\n",
    "\n",
    "    return cluster_solution"
   ]
  },
  {
   "cell_type": "code",
   "execution_count": 402,
   "metadata": {},
   "outputs": [
    {
     "data": {
      "text/plain": [
       "{2: ['Ad sales boost Time Warner profit\\n\\nQuarterly profits at US media giant TimeWarner jumped 76% to $1.13bn (Â£600m) for the three months to December, from $639m year-earlier.',\n",
       "  'Its profits were buoyed by one-off gains which offset a profit dip at Warner Bros, and less users for AOL.',\n",
       "  'TimeWarner also has to restate 2000 and 2003 results following a probe by the US Securities Exchange Commission (SEC), which is close to concluding.',\n",
       "  'But its film division saw profits slump 27% to $284m, helped by box-office flops Alexander and Catwoman, a sharp contrast to year-earlier, when the third and final film in the Lord of the Rings trilogy boosted results.',\n",
       "  'For the full-year, TimeWarner posted a profit of $3.36bn, up 27% from its 2003 performance, while revenues grew 6.4% to $42.09bn.',\n",
       "  'For 2005, TimeWarner is projecting operating earnings growth of around 5%, and also expects higher revenue and wider profit margins.',\n",
       "  'TimeWarner is to restate its accounts as part of efforts to resolve an inquiry into AOL by US market regulators.'],\n",
       " 0: ['The firm, which is now one of the biggest investors in Google, benefited from sales of high-speed internet connections and higher advert sales.',\n",
       "  'Time Warner said on Friday that it now owns 8% of search-engine Google.',\n",
       "  \"However, the company said AOL's underlying profit before exceptional items rose 8% on the back of stronger internet advertising revenues.\",\n",
       "  '\"Our financial performance was strong, meeting or exceeding all of our full-year objectives and greatly enhancing our flexibility,\" chairman and chief executive Richard Parsons said.'],\n",
       " 4: ['TimeWarner said fourth quarter sales rose 2% to $11.1bn from $10.9bn.',\n",
       "  'It lost 464,000 subscribers in the fourth quarter profits were lower than in the preceding three quarters.',\n",
       "  \"Time Warner's fourth quarter profits were slightly better than analysts' expectations.\"],\n",
       " 3: ['But its own internet business, AOL, had has mixed fortunes.'],\n",
       " 1: [\"It hopes to increase subscribers by offering the online service free to TimeWarner internet customers and will try to sign up AOL's existing customers for high-speed broadband.\",\n",
       "  'It has already offered to pay $300m to settle charges, in a deal that is under review by the SEC.',\n",
       "  'The company said it was unable to estimate the amount it needed to set aside for legal reserves, which it previously set at $500m.',\n",
       "  \"It intends to adjust the way it accounts for a deal with German music publisher Bertelsmann's purchase of a stake in AOL Europe, which it had reported as advertising revenue.\",\n",
       "  'It will now book the sale of its stake in AOL Europe as a loss on the value of that stake.']}"
      ]
     },
     "execution_count": 402,
     "metadata": {},
     "output_type": "execute_result"
    }
   ],
   "source": [
    "sentence_clustering(documents[0], None)"
   ]
  },
  {
   "cell_type": "markdown",
   "metadata": {},
   "source": [
    "We will create a functio to visualize the clusters, and another to visualize the dendrogram."
   ]
  },
  {
   "cell_type": "code",
   "execution_count": 405,
   "metadata": {},
   "outputs": [],
   "source": [
    "\n",
    "from sklearn.decomposition import PCA\n",
    "\n",
    "def plot_clusters(clusters:dict, return_plot:bool=False):\n",
    "    # Get the vector space from the clusters\n",
    "    values = clusters.values()\n",
    "\n",
    "    # Convert the sentences into vectors using TfIdf\n",
    "    vectorizer = TfidfVectorizer()\n",
    "    sentences = [sentence for cluster in values for sentence in cluster]\n",
    "    \n",
    "    X = vectorizer.fit_transform(sentences)\n",
    "\n",
    "    # Reduce the dimensionality of the vectors to 2D\n",
    "    pca = PCA(n_components=2, random_state=42)\n",
    "    X_pca = pca.fit_transform(X.toarray())\n",
    "\n",
    "    # Plot the clusters and set the color \n",
    "    # knowing that the keys of the clusters are the labels and the \n",
    "    # values are the sentences\n",
    "\n",
    "    for key, value in clusters.items():\n",
    "        plt.scatter(X_pca[[sentences.index(sentence) for sentence in value], 0], \n",
    "                    X_pca[[sentences.index(sentence) for sentence in value], 1], \n",
    "                    label=f\"Cluster {key}\")\n",
    "\n",
    "    if return_plot: return plt\n",
    "    \n",
    "    # Plot the confidence ellipses\n",
    "    plt.legend()\n",
    "    plt.show()\n",
    "\n",
    "\n"
   ]
  },
  {
   "cell_type": "code",
   "execution_count": 406,
   "metadata": {},
   "outputs": [
    {
     "data": {
      "image/png": "[encoded data removed]",
      "text/plain": [
       "<Figure size 640x480 with 1 Axes>"
      ]
     },
     "metadata": {},
     "output_type": "display_data"
    },
    {
     "data": {
      "image/png": "[encoded data removed]",
      "text/plain": [
       "<Figure size 640x480 with 1 Axes>"
      ]
     },
     "metadata": {},
     "output_type": "display_data"
    }
   ],
   "source": [
    "docs = documents[:2]\n",
    "\n",
    "for doc in docs:\n",
    "    clusters = sentence_clustering(doc, None)\n",
    "    plot_clusters(clusters)"
   ]
  },
  {
   "cell_type": "markdown",
   "metadata": {},
   "source": [
    "*B) Summarization*"
   ]
  },
  {
   "cell_type": "code",
   "execution_count": null,
   "metadata": {},
   "outputs": [],
   "source": [
    "#code, statistics and/or charts here"
   ]
  },
  {
   "cell_type": "markdown",
   "metadata": {},
   "source": [
    "*C) Keyword extraction*"
   ]
  },
  {
   "cell_type": "code",
   "execution_count": 3,
   "metadata": {},
   "outputs": [],
   "source": [
    "#code, statistics and/or charts here"
   ]
  },
  {
   "cell_type": "markdown",
   "metadata": {},
   "source": [
    "*D) Evaluation*"
   ]
  },
  {
   "cell_type": "code",
   "execution_count": null,
   "metadata": {},
   "outputs": [],
   "source": [
    "#code, statistics and/or charts here"
   ]
  },
  {
   "cell_type": "markdown",
   "metadata": {},
   "source": [
    "<h3>Part II: classification</h3>"
   ]
  },
  {
   "cell_type": "markdown",
   "metadata": {},
   "source": [
    "*A) Feature extraction*"
   ]
  },
  {
   "cell_type": "code",
   "execution_count": null,
   "metadata": {},
   "outputs": [],
   "source": [
    "#code and statistics here"
   ]
  },
  {
   "cell_type": "markdown",
   "metadata": {},
   "source": [
    "*B) Classification*"
   ]
  },
  {
   "cell_type": "code",
   "execution_count": 4,
   "metadata": {},
   "outputs": [],
   "source": [
    "#code here"
   ]
  },
  {
   "cell_type": "markdown",
   "metadata": {},
   "source": [
    "*C) Ranking extension*"
   ]
  },
  {
   "cell_type": "code",
   "execution_count": 4,
   "metadata": {},
   "outputs": [],
   "source": [
    "#code here"
   ]
  },
  {
   "cell_type": "markdown",
   "metadata": {},
   "source": [
    "*D) Evaluation*"
   ]
  },
  {
   "cell_type": "code",
   "execution_count": 5,
   "metadata": {},
   "outputs": [],
   "source": [
    "#code, statistics and/or charts here"
   ]
  },
  {
   "cell_type": "markdown",
   "metadata": {},
   "source": [
    "<H2>Question materials (optional)</H2>"
   ]
  },
  {
   "cell_type": "markdown",
   "metadata": {},
   "source": [
    "<H3>Part I: clustering</H3>"
   ]
  },
  {
   "cell_type": "markdown",
   "metadata": {},
   "source": [
    "**(1)** Do clustering-guided summarization alters the behavior and efficacy of the IR system?"
   ]
  },
  {
   "cell_type": "code",
   "execution_count": null,
   "metadata": {},
   "outputs": [],
   "source": [
    "#code, statistics and/or charts here"
   ]
  },
  {
   "cell_type": "markdown",
   "metadata": {},
   "source": [
    "**(2)** How sentence representations, clustering choices, and rank criteria impact summarization?"
   ]
  },
  {
   "cell_type": "code",
   "execution_count": null,
   "metadata": {},
   "outputs": [],
   "source": [
    "#code, statistics and/or charts here"
   ]
  },
  {
   "cell_type": "markdown",
   "metadata": {},
   "source": [
    "**...** (additional questions with empirical results)"
   ]
  },
  {
   "cell_type": "markdown",
   "metadata": {},
   "source": [
    "<H3>END</H3>"
   ]
  }
 ],
 "metadata": {
  "kernelspec": {
   "display_name": "Python 3 (ipykernel)",
   "language": "python",
   "name": "python3"
  },
  "language_info": {
   "codemirror_mode": {
    "name": "ipython",
    "version": 3
   },
   "file_extension": ".py",
   "mimetype": "text/x-python",
   "name": "python",
   "nbconvert_exporter": "python",
   "pygments_lexer": "ipython3",
   "version": "3.9.8"
  }
 },
 "nbformat": 4,
 "nbformat_minor": 4
}
