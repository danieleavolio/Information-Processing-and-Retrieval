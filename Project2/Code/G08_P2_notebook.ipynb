{
 "cells": [
  {
   "cell_type": "markdown",
   "metadata": {},
   "source": [
    "<H3>PRI 2023/24: second\n",
    "    project delivery</H3>"
   ]
  },
  {
   "cell_type": "markdown",
   "metadata": {},
   "source": [
    "**GROUP 08**\n",
    "- Daniele Avolio    , ist1111559\n",
    "- Michele Vitale\t, ist1111558\t\n",
    "- Luís Dias\t        , ist198557"
   ]
  },
  {
   "cell_type": "markdown",
   "metadata": {},
   "source": [
    "<H2>Main facilities</H2>"
   ]
  },
  {
   "cell_type": "markdown",
   "metadata": {},
   "source": [
    "<h3>Part I: clustering</h3>"
   ]
  },
  {
   "cell_type": "markdown",
   "metadata": {},
   "source": [
    "*A) Clustering*\n",
    "\n",
    "This function takes a document, along with optional inverted index and clustering arguments, and returns the best clustering solution for the given task, determined by proper internal indices."
   ]
  },
  {
   "cell_type": "code",
   "execution_count": 1,
   "metadata": {},
   "outputs": [],
   "source": [
    "# Imports useful later\n",
    "\n",
    "import os\n",
    "import sys\n",
    "import time\n",
    "import random\n",
    "import nltk\n",
    "import scipy\n",
    "import numpy as np\n",
    "import pandas as pd\n",
    "import matplotlib.pyplot as plt\n",
    "import seaborn as sns\n",
    "from sklearn import metrics\n",
    "from sklearn import cluster \n",
    "from sklearn import model_selection\n",
    "from sklearn.feature_extraction.text import TfidfVectorizer\n",
    "\n"
   ]
  },
  {
   "cell_type": "code",
   "execution_count": 2,
   "metadata": {},
   "outputs": [],
   "source": [
    "import os  \n",
    "\n",
    "\n",
    "def read_files(location:str, skip_first_line:bool=True) -> list:\n",
    "    \"\"\"\n",
    "    Read all text files in the specified location and return their contents as a list.\n",
    "    \"\"\"\n",
    "    files_list = []\n",
    "    \n",
    "    for root, dirs, files in os.walk(location):\n",
    "        for file in files:\n",
    "            if file.endswith(\".txt\"): \n",
    "                with open(os.path.join(root, file), \"r\") as auto:\n",
    "                    if skip_first_line: auto.readline()\n",
    "                    # Skip the first line\n",
    "                    files_list.append(auto.read().strip())\n",
    "    return files_list"
   ]
  },
  {
   "cell_type": "markdown",
   "metadata": {},
   "source": [
    "We will get those from the beginning, so we won't have problems in the future."
   ]
  },
  {
   "cell_type": "code",
   "execution_count": 3,
   "metadata": {},
   "outputs": [],
   "source": [
    "documents = read_files(\"../BBC News Summary/News Articles\")\n",
    "summaries = read_files(\"../BBC News Summary/Summaries\", skip_first_line=False)"
   ]
  },
  {
   "cell_type": "code",
   "execution_count": 4,
   "metadata": {},
   "outputs": [
    {
     "name": "stdout",
     "output_type": "stream",
     "text": [
      "Quarterly profits at US media giant TimeWarner jumped 76% to $1.13bn (Â£600m) for the three months to December, from $639m year-earlier.\n",
      "\n",
      "The firm, which is now one of the biggest investors in Google, benefited from sales of high-speed internet connections and higher advert sales. TimeWarner said fourth quarter sales rose 2% to $11.1bn from $10.9bn. Its profits were buoyed by one-off gains which offset a profit dip at Warner Bros, and less users for AOL.\n",
      "\n",
      "Time Warner said on Friday that it now owns 8% of search-engine Google. But its own internet business, AOL, had has mixed fortunes. It lost 464,000 subscribers in the fourth quarter profits were lower than in the preceding three quarters. However, the company said AOL's underlying profit before exceptional items rose 8% on the back of stronger internet advertising revenues. It hopes to increase subscribers by offering the online service free to TimeWarner internet customers and will try to sign up AOL's existing customers for high-speed broadband. TimeWarner also has to restate 2000 and 2003 results following a probe by the US Securities Exchange Commission (SEC), which is close to concluding.\n",
      "\n",
      "Time Warner's fourth quarter profits were slightly better than analysts' expectations. But its film division saw profits slump 27% to $284m, helped by box-office flops Alexander and Catwoman, a sharp contrast to year-earlier, when the third and final film in the Lord of the Rings trilogy boosted results. For the full-year, TimeWarner posted a profit of $3.36bn, up 27% from its 2003 performance, while revenues grew 6.4% to $42.09bn. \"Our financial performance was strong, meeting or exceeding all of our full-year objectives and greatly enhancing our flexibility,\" chairman and chief executive Richard Parsons said. For 2005, TimeWarner is projecting operating earnings growth of around 5%, and also expects higher revenue and wider profit margins.\n",
      "\n",
      "TimeWarner is to restate its accounts as part of efforts to resolve an inquiry into AOL by US market regulators. It has already offered to pay $300m to settle charges, in a deal that is under review by the SEC. The company said it was unable to estimate the amount it needed to set aside for legal reserves, which it previously set at $500m. It intends to adjust the way it accounts for a deal with German music publisher Bertelsmann's purchase of a stake in AOL Europe, which it had reported as advertising revenue. It will now book the sale of its stake in AOL Europe as a loss on the value of that stake.\n",
      "\n",
      "TimeWarner said fourth quarter sales rose 2% to $11.1bn from $10.9bn.For the full-year, TimeWarner posted a profit of $3.36bn, up 27% from its 2003 performance, while revenues grew 6.4% to $42.09bn.Quarterly profits at US media giant TimeWarner jumped 76% to $1.13bn (Â£600m) for the three months to December, from $639m year-earlier.However, the company said AOL's underlying profit before exceptional items rose 8% on the back of stronger internet advertising revenues.Its profits were buoyed by one-off gains which offset a profit dip at Warner Bros, and less users for AOL.For 2005, TimeWarner is projecting operating earnings growth of around 5%, and also expects higher revenue and wider profit margins.It lost 464,000 subscribers in the fourth quarter profits were lower than in the preceding three quarters.Time Warner's fourth quarter profits were slightly better than analysts' expectations.\n"
     ]
    }
   ],
   "source": [
    "print(documents[0])\n",
    "print()\n",
    "print(summaries[0])\n"
   ]
  },
  {
   "cell_type": "code",
   "execution_count": 155,
   "metadata": {},
   "outputs": [],
   "source": [
    "# hierarchical clustering\n",
    "from sklearn.cluster import AgglomerativeClustering\n",
    "from sklearn.metrics import silhouette_score, calinski_harabasz_score\n",
    "import math\n",
    "\n",
    "\n",
    "def sentence_clustering(d: str, I = None, alpha = 1, beta = 0.45, gamma = 0.05, **kwargs):\n",
    "    # Workflow idea:\n",
    "    # 1. Split the document into sentences using nltk\n",
    "    # 2. Convert the sentences into vectors using TfIdf\n",
    "    # 3. Cluster the vectors using Hierarchical Clustering\n",
    "    # 4. Return the clusters\n",
    "\n",
    "    # Problems: How many clusters should we use?\n",
    "    # Answer: We can use the elbow method to find the optimal number of clusters\n",
    "\n",
    "    # Problems: How do we know if the clusters are good?\n",
    "    # Answer: We can use the silhouette score to evaluate the quality of the clusters\n",
    "   \n",
    "    sentences = nltk.sent_tokenize(d)\n",
    "\n",
    "    vectorizer = TfidfVectorizer(stop_words=\"english\")\n",
    "    X = vectorizer.fit_transform(sentences)\n",
    "\n",
    "    # Parameter for the score functoin\n",
    "    # Best number of clusters\n",
    "    best_score = 0\n",
    "    best_n_clusters = 0\n",
    "    \n",
    "\n",
    "    max_clusters = kwargs.get(\"max_clusters\", len(sentences))\n",
    "\n",
    "    if max_clusters > len(sentences):\n",
    "        max_clusters = len(sentences)\n",
    "\n",
    "    for n_clusters in range(2, max_clusters):\n",
    "        model = AgglomerativeClustering(\n",
    "            n_clusters=n_clusters, linkage=\"complete\", metric=\"cosine\"\n",
    "        )\n",
    "        labels = model.fit_predict(X.toarray())\n",
    "\n",
    "        # Calculate the silhouette score, which measures the compactness and separation of the clusters.\n",
    "        # A higher silhouette score indicates better clustering quality.\n",
    "        # It ranges from -1 to 1, with 1 being the best score.\n",
    "        # The goal is to maximize the silhouette score.\n",
    "        # Reference: https://scikit-learn.org/stable/modules/generated/sklearn.metrics.silhouette_score.html\n",
    "\n",
    "        silhouette_score_value = silhouette_score(X.toarray(), labels) * alpha\n",
    "\n",
    "        # # Calculate the Calinski-Harabasz score, which measures the ratio of between-cluster dispersion to within-cluster dispersion.\n",
    "        # # A higher Calinski-Harabasz score indicates better clustering quality.\n",
    "        # # It is based on the analysis of variance (ANOVA) and measures the separation between clusters.\n",
    "        # # The goal is to maximize the Calinski-Harabasz score.\n",
    "        # # Reference: https://scikit-learn.org/stable/modules/generated/sklearn.metrics.calinski_harabasz_score.html\n",
    "        # c_score = calinski_harabasz_score(X.toarray(), labels) * beta\n",
    "\n",
    "        # # clusters score based on the number of clusters\n",
    "        # # the more, the worse. We are going to subtract this value from the final score\n",
    "\n",
    "        # cluster_score = math.log(n_clusters)\n",
    "        # final_score = math.log(silhouette_score_value) + math.log(c_score) - cluster_score * gamma\n",
    "        # print(f\"Numero di cluster: {n_clusters}, Silhouette score: {silhouette_score_value}, Calinski-Harabasz score: {c_score}, Final score: {final_score}\")\n",
    "\n",
    "        if silhouette_score_value > best_score:\n",
    "            best_score = silhouette_score_value\n",
    "            best_n_clusters = n_clusters\n",
    "\n",
    "            \n",
    "\n",
    "\n",
    "            \n",
    "    # print(f\"Numero ottimale di cluster: {best_n_clusters}\")\n",
    "\n",
    "    model = AgglomerativeClustering(\n",
    "        n_clusters=best_n_clusters, linkage=\"complete\", metric=\"cosine\"\n",
    "    )\n",
    "    labels = model.fit_predict(X.toarray())\n",
    "\n",
    "    # 5. Costruisci la soluzione di clustering\n",
    "    cluster_solution = {}\n",
    "    for i, label in enumerate(labels):\n",
    "        if label not in cluster_solution:\n",
    "            cluster_solution[label] = []\n",
    "        cluster_solution[label].append(sentences[i])\n",
    "\n",
    "    return cluster_solution"
   ]
  },
  {
   "cell_type": "code",
   "execution_count": 156,
   "metadata": {},
   "outputs": [
    {
     "data": {
      "text/plain": [
       "{2: ['Quarterly profits at US media giant TimeWarner jumped 76% to $1.13bn (Â£600m) for the three months to December, from $639m year-earlier.',\n",
       "  'But its film division saw profits slump 27% to $284m, helped by box-office flops Alexander and Catwoman, a sharp contrast to year-earlier, when the third and final film in the Lord of the Rings trilogy boosted results.'],\n",
       " 5: ['The firm, which is now one of the biggest investors in Google, benefited from sales of high-speed internet connections and higher advert sales.',\n",
       "  \"It hopes to increase subscribers by offering the online service free to TimeWarner internet customers and will try to sign up AOL's existing customers for high-speed broadband.\"],\n",
       " 6: ['TimeWarner said fourth quarter sales rose 2% to $11.1bn from $10.9bn.',\n",
       "  'It lost 464,000 subscribers in the fourth quarter profits were lower than in the preceding three quarters.',\n",
       "  \"Time Warner's fourth quarter profits were slightly better than analysts' expectations.\"],\n",
       " 1: ['Its profits were buoyed by one-off gains which offset a profit dip at Warner Bros, and less users for AOL.',\n",
       "  'But its own internet business, AOL, had has mixed fortunes.',\n",
       "  \"However, the company said AOL's underlying profit before exceptional items rose 8% on the back of stronger internet advertising revenues.\"],\n",
       " 0: ['Time Warner said on Friday that it now owns 8% of search-engine Google.',\n",
       "  'The company said it was unable to estimate the amount it needed to set aside for legal reserves, which it previously set at $500m.'],\n",
       " 9: ['TimeWarner also has to restate 2000 and 2003 results following a probe by the US Securities Exchange Commission (SEC), which is close to concluding.',\n",
       "  'TimeWarner is to restate its accounts as part of efforts to resolve an inquiry into AOL by US market regulators.'],\n",
       " 4: ['For the full-year, TimeWarner posted a profit of $3.36bn, up 27% from its 2003 performance, while revenues grew 6.4% to $42.09bn.',\n",
       "  'For 2005, TimeWarner is projecting operating earnings growth of around 5%, and also expects higher revenue and wider profit margins.'],\n",
       " 7: ['\"Our financial performance was strong, meeting or exceeding all of our full-year objectives and greatly enhancing our flexibility,\" chairman and chief executive Richard Parsons said.'],\n",
       " 8: ['It has already offered to pay $300m to settle charges, in a deal that is under review by the SEC.'],\n",
       " 3: [\"It intends to adjust the way it accounts for a deal with German music publisher Bertelsmann's purchase of a stake in AOL Europe, which it had reported as advertising revenue.\",\n",
       "  'It will now book the sale of its stake in AOL Europe as a loss on the value of that stake.']}"
      ]
     },
     "execution_count": 156,
     "metadata": {},
     "output_type": "execute_result"
    }
   ],
   "source": [
    "sentence_clustering(documents[0], None)"
   ]
  },
  {
   "cell_type": "markdown",
   "metadata": {},
   "source": [
    "We will create a functio to visualize the clusters, and another to visualize the dendrogram."
   ]
  },
  {
   "cell_type": "code",
   "execution_count": 164,
   "metadata": {},
   "outputs": [],
   "source": [
    "\n",
    "from sklearn.decomposition import PCA\n",
    "\n",
    "def plot_clusters(clusters:dict, return_plot:bool=False):\n",
    "    # Get the vector space from the clusters\n",
    "    values = clusters.values()\n",
    "\n",
    "    # Convert the sentences into vectors using TfIdf\n",
    "    vectorizer = TfidfVectorizer(stop_words=\"english\")\n",
    "    sentences = [sentence for cluster in values for sentence in cluster]\n",
    "    \n",
    "    X = vectorizer.fit_transform(sentences)\n",
    "\n",
    "    # Reduce the dimensionality of the vectors to 2D\n",
    "    pca = PCA(n_components=2)\n",
    "    X_pca = pca.fit_transform(X.toarray())\n",
    "\n",
    "    # Plot the clusters and set the color \n",
    "    # knowing that the keys of the clusters are the labels and the \n",
    "    # values are the sentences\n",
    "\n",
    "    for key, value in clusters.items():\n",
    "        plt.scatter(X_pca[[sentences.index(sentence) for sentence in value], 0], \n",
    "                    X_pca[[sentences.index(sentence) for sentence in value], 1], \n",
    "                    label=f\"Cluster {key}\")\n",
    "\n",
    "    if return_plot: return plt\n",
    "    \n",
    "    # Plot the confidence ellipses\n",
    "    plt.legend()\n",
    "    plt.show()\n",
    "\n",
    "\n"
   ]
  },
  {
   "cell_type": "code",
   "execution_count": 165,
   "metadata": {},
   "outputs": [
    {
     "data": {
      "image/png": "[encoded data removed]",
      "text/plain": [
       "<Figure size 640x480 with 1 Axes>"
      ]
     },
     "metadata": {},
     "output_type": "display_data"
    },
    {
     "data": {
      "image/png": "[encoded data removed]",
      "text/plain": [
       "<Figure size 640x480 with 1 Axes>"
      ]
     },
     "metadata": {},
     "output_type": "display_data"
    },
    {
     "data": {
      "image/png": "[encoded data removed]",
      "text/plain": [
       "<Figure size 640x480 with 1 Axes>"
      ]
     },
     "metadata": {},
     "output_type": "display_data"
    },
    {
     "data": {
      "image/png": "[encoded data removed]",
      "text/plain": [
       "<Figure size 640x480 with 1 Axes>"
      ]
     },
     "metadata": {},
     "output_type": "display_data"
    }
   ],
   "source": [
    "docs = documents[:4]\n",
    "\n",
    "for doc in docs:\n",
    "    clusters = sentence_clustering(doc, max_clusters=5)\n",
    "    plot_clusters(clusters)"
   ]
  },
  {
   "cell_type": "markdown",
   "metadata": {},
   "source": [
    "The way we are selecting the best clustering solution is by using the silhouette score, which is a measure of how similar an object is to its own cluster (cohesion) compared to other clusters (separation). Other than that we are using the Calinski-Harabasz index, which is the ratio of the sum of between-clusters dispersion and of inter-cluster dispersion for all clusters.\n",
    "\n",
    "The number of cluster is determined usign minimum 2 or maximum the number of sentences in the document. Not sure if this is the best approach, but we will see."
   ]
  },
  {
   "cell_type": "markdown",
   "metadata": {},
   "source": [
    "*B) Summarization*"
   ]
  },
  {
   "cell_type": "code",
   "execution_count": 294,
   "metadata": {},
   "outputs": [],
   "source": [
    "# Summarizatio part\n",
    "from sklearn.metrics.pairwise import cosine_similarity, euclidean_distances\n",
    "\n",
    "def summarization(doc:str, clusters:dict, I=None, **kwargs):\n",
    "\n",
    "    # Workflow:\n",
    "    # 1. Choose the the best number of sentences to extract from based on the numebr of clusters\n",
    "    # 2. Choose the best sentences to extract from each cluster, using the centroid of the cluster\n",
    "    # 3. Return the summary as a string\n",
    "\n",
    "    # Problems: How many sentences should we extract from each cluster?\n",
    "    # Answer: We can use the elbow method to find the optimal number of sentences to extract from each cluster\n",
    "\n",
    "    # Problems: How do we know if the sentences are good?\n",
    "    # Answer: We can use the centroid of the cluster to extract the best sentences\n",
    "\n",
    "    # Best number\n",
    "    # We can try to do some calculation using the number of clusters.\n",
    "    # Like: We have a total of n sentences and k clusters,\n",
    "    # we can try to extract n/k sentences from each cluster.\n",
    "\n",
    "    number_of_sentences = kwargs.get(\"number_of_sentences\", 1)\n",
    "    # We keep 1 at the beginning to see how it goes\n",
    "\n",
    "    # Calculate the centroid of each cluster\n",
    "    centroids = {}\n",
    "    vectorizer = TfidfVectorizer(stop_words=\"english\")\n",
    "\n",
    "    for key, value in clusters.items():\n",
    "        X = vectorizer.fit_transform(value)\n",
    "        centroids[key] = np.asarray(X.mean(axis=0)).flatten()\n",
    "      \n",
    "        \n",
    "\n",
    "    print(f\"Number of clusters: {len(clusters)}\")\n",
    "\n",
    "    final_summary = \"\"\n",
    "        \n",
    "    sentences = nltk.sent_tokenize(doc)\n",
    "    X = vectorizer.fit_transform(sentences)\n",
    "    for k in clusters.keys():\n",
    "        phrases = clusters[k]\n",
    "\n",
    "        sentences_vectors = vectorizer.transform([phrase for phrase in phrases])\n",
    "        centroid = centroids[k].reshape(1, -1)\n",
    "\n",
    "        distances = []\n",
    "        for i in range(len(phrases)):\n",
    "            distances.append(cosine_similarity(sentences_vectors[i].reshape(1, -1), centroid)[0][0])\n",
    "\n",
    "        # Sort the sentences based on the distance from the centroid\n",
    "        sentences_indices = np.argsort(distances, axis=0).flatten()\n",
    "        sentences_indices = sentences_indices[::-1]\n",
    "\n",
    "        # Extract the best sentences\n",
    "        for i in range(number_of_sentences):\n",
    "            final_summary += sentences[sentences_indices[i]] + \" \"\n",
    "\n",
    "    return final_summary"
   ]
  },
  {
   "cell_type": "code",
   "execution_count": 295,
   "metadata": {},
   "outputs": [
    {
     "name": "stdout",
     "output_type": "stream",
     "text": [
      "Number of clusters: 10\n"
     ]
    },
    {
     "ename": "ValueError",
     "evalue": "Expected 2D array, got 1D array instead:\narray=[0.14131551 0.10097666 0.10097666 0.14131551 0.14131551 0.14131551\n 0.10097666 0.10097666 0.10097666 0.10097666 0.10097666 0.14131551\n 0.10097666 0.17239288 0.20195332 0.10097666 0.10097666 0.14131551\n 0.10097666 0.14131551 0.10097666 0.14131551 0.14131551 0.10097666\n 0.17239288 0.14131551 0.10097666 0.10097666 0.10097666 0.10097666\n 0.10097666 0.14131551 0.10097666 0.17239288].\nReshape your data either using array.reshape(-1, 1) if your data has a single feature or array.reshape(1, -1) if it contains a single sample.",
     "output_type": "error",
     "traceback": [
      "\u001b[1;31m---------------------------------------------------------------------------\u001b[0m",
      "\u001b[1;31mValueError\u001b[0m                                Traceback (most recent call last)",
      "Cell \u001b[1;32mIn[295], line 5\u001b[0m\n\u001b[0;32m      2\u001b[0m doc \u001b[38;5;241m=\u001b[39m documents[\u001b[38;5;241m0\u001b[39m]\n\u001b[0;32m      4\u001b[0m clusters \u001b[38;5;241m=\u001b[39m sentence_clustering(doc)\n\u001b[1;32m----> 5\u001b[0m \u001b[43msummarization\u001b[49m\u001b[43m(\u001b[49m\u001b[43mdoc\u001b[49m\u001b[43m,\u001b[49m\u001b[43m \u001b[49m\u001b[43mclusters\u001b[49m\u001b[43m)\u001b[49m\n",
      "Cell \u001b[1;32mIn[294], line 49\u001b[0m, in \u001b[0;36msummarization\u001b[1;34m(doc, clusters, I, **kwargs)\u001b[0m\n\u001b[0;32m     47\u001b[0m distances \u001b[38;5;241m=\u001b[39m []\n\u001b[0;32m     48\u001b[0m \u001b[38;5;28;01mfor\u001b[39;00m i \u001b[38;5;129;01min\u001b[39;00m \u001b[38;5;28mrange\u001b[39m(\u001b[38;5;28mlen\u001b[39m(phrases)):\n\u001b[1;32m---> 49\u001b[0m     distances\u001b[38;5;241m.\u001b[39mappend(\u001b[43mcosine_similarity\u001b[49m\u001b[43m(\u001b[49m\u001b[43msentences_vectors\u001b[49m\u001b[43m[\u001b[49m\u001b[43mi\u001b[49m\u001b[43m]\u001b[49m\u001b[38;5;241;43m.\u001b[39;49m\u001b[43mreshape\u001b[49m\u001b[43m(\u001b[49m\u001b[38;5;241;43m1\u001b[39;49m\u001b[43m,\u001b[49m\u001b[43m \u001b[49m\u001b[38;5;241;43m-\u001b[39;49m\u001b[38;5;241;43m1\u001b[39;49m\u001b[43m)\u001b[49m\u001b[43m,\u001b[49m\u001b[43m \u001b[49m\u001b[43mcentroid\u001b[49m\u001b[43m)\u001b[49m[\u001b[38;5;241m0\u001b[39m][\u001b[38;5;241m0\u001b[39m])\n\u001b[0;32m     51\u001b[0m \u001b[38;5;66;03m# Sort the sentences based on the distance from the centroid\u001b[39;00m\n\u001b[0;32m     52\u001b[0m sentences_indices \u001b[38;5;241m=\u001b[39m np\u001b[38;5;241m.\u001b[39margsort(distances, axis\u001b[38;5;241m=\u001b[39m\u001b[38;5;241m0\u001b[39m)\u001b[38;5;241m.\u001b[39mflatten()\n",
      "File \u001b[1;32md:\\Lovaion\\University\\2nd Year\\Erasmus\\Information Processing and Retrieval\\.venv\\lib\\site-packages\\sklearn\\utils\\_param_validation.py:213\u001b[0m, in \u001b[0;36mvalidate_params.<locals>.decorator.<locals>.wrapper\u001b[1;34m(*args, **kwargs)\u001b[0m\n\u001b[0;32m    207\u001b[0m \u001b[38;5;28;01mtry\u001b[39;00m:\n\u001b[0;32m    208\u001b[0m     \u001b[38;5;28;01mwith\u001b[39;00m config_context(\n\u001b[0;32m    209\u001b[0m         skip_parameter_validation\u001b[38;5;241m=\u001b[39m(\n\u001b[0;32m    210\u001b[0m             prefer_skip_nested_validation \u001b[38;5;129;01mor\u001b[39;00m global_skip_validation\n\u001b[0;32m    211\u001b[0m         )\n\u001b[0;32m    212\u001b[0m     ):\n\u001b[1;32m--> 213\u001b[0m         \u001b[38;5;28;01mreturn\u001b[39;00m func(\u001b[38;5;241m*\u001b[39margs, \u001b[38;5;241m*\u001b[39m\u001b[38;5;241m*\u001b[39mkwargs)\n\u001b[0;32m    214\u001b[0m \u001b[38;5;28;01mexcept\u001b[39;00m InvalidParameterError \u001b[38;5;28;01mas\u001b[39;00m e:\n\u001b[0;32m    215\u001b[0m     \u001b[38;5;66;03m# When the function is just a wrapper around an estimator, we allow\u001b[39;00m\n\u001b[0;32m    216\u001b[0m     \u001b[38;5;66;03m# the function to delegate validation to the estimator, but we replace\u001b[39;00m\n\u001b[0;32m    217\u001b[0m     \u001b[38;5;66;03m# the name of the estimator by the name of the function in the error\u001b[39;00m\n\u001b[0;32m    218\u001b[0m     \u001b[38;5;66;03m# message to avoid confusion.\u001b[39;00m\n\u001b[0;32m    219\u001b[0m     msg \u001b[38;5;241m=\u001b[39m re\u001b[38;5;241m.\u001b[39msub(\n\u001b[0;32m    220\u001b[0m         \u001b[38;5;124mr\u001b[39m\u001b[38;5;124m\"\u001b[39m\u001b[38;5;124mparameter of \u001b[39m\u001b[38;5;124m\\\u001b[39m\u001b[38;5;124mw+ must be\u001b[39m\u001b[38;5;124m\"\u001b[39m,\n\u001b[0;32m    221\u001b[0m         \u001b[38;5;124mf\u001b[39m\u001b[38;5;124m\"\u001b[39m\u001b[38;5;124mparameter of \u001b[39m\u001b[38;5;132;01m{\u001b[39;00mfunc\u001b[38;5;241m.\u001b[39m\u001b[38;5;18m__qualname__\u001b[39m\u001b[38;5;132;01m}\u001b[39;00m\u001b[38;5;124m must be\u001b[39m\u001b[38;5;124m\"\u001b[39m,\n\u001b[0;32m    222\u001b[0m         \u001b[38;5;28mstr\u001b[39m(e),\n\u001b[0;32m    223\u001b[0m     )\n",
      "File \u001b[1;32md:\\Lovaion\\University\\2nd Year\\Erasmus\\Information Processing and Retrieval\\.venv\\lib\\site-packages\\sklearn\\metrics\\pairwise.py:1657\u001b[0m, in \u001b[0;36mcosine_similarity\u001b[1;34m(X, Y, dense_output)\u001b[0m\n\u001b[0;32m   1613\u001b[0m \u001b[38;5;250m\u001b[39m\u001b[38;5;124;03m\"\"\"Compute cosine similarity between samples in X and Y.\u001b[39;00m\n\u001b[0;32m   1614\u001b[0m \n\u001b[0;32m   1615\u001b[0m \u001b[38;5;124;03mCosine similarity, or the cosine kernel, computes similarity as the\u001b[39;00m\n\u001b[1;32m   (...)\u001b[0m\n\u001b[0;32m   1653\u001b[0m \u001b[38;5;124;03m       [0.57..., 0.81...]])\u001b[39;00m\n\u001b[0;32m   1654\u001b[0m \u001b[38;5;124;03m\"\"\"\u001b[39;00m\n\u001b[0;32m   1655\u001b[0m \u001b[38;5;66;03m# to avoid recursive import\u001b[39;00m\n\u001b[1;32m-> 1657\u001b[0m X, Y \u001b[38;5;241m=\u001b[39m \u001b[43mcheck_pairwise_arrays\u001b[49m\u001b[43m(\u001b[49m\u001b[43mX\u001b[49m\u001b[43m,\u001b[49m\u001b[43m \u001b[49m\u001b[43mY\u001b[49m\u001b[43m)\u001b[49m\n\u001b[0;32m   1659\u001b[0m X_normalized \u001b[38;5;241m=\u001b[39m normalize(X, copy\u001b[38;5;241m=\u001b[39m\u001b[38;5;28;01mTrue\u001b[39;00m)\n\u001b[0;32m   1660\u001b[0m \u001b[38;5;28;01mif\u001b[39;00m X \u001b[38;5;129;01mis\u001b[39;00m Y:\n",
      "File \u001b[1;32md:\\Lovaion\\University\\2nd Year\\Erasmus\\Information Processing and Retrieval\\.venv\\lib\\site-packages\\sklearn\\metrics\\pairwise.py:172\u001b[0m, in \u001b[0;36mcheck_pairwise_arrays\u001b[1;34m(X, Y, precomputed, dtype, accept_sparse, force_all_finite, copy)\u001b[0m\n\u001b[0;32m    163\u001b[0m \u001b[38;5;28;01melse\u001b[39;00m:\n\u001b[0;32m    164\u001b[0m     X \u001b[38;5;241m=\u001b[39m check_array(\n\u001b[0;32m    165\u001b[0m         X,\n\u001b[0;32m    166\u001b[0m         accept_sparse\u001b[38;5;241m=\u001b[39maccept_sparse,\n\u001b[1;32m   (...)\u001b[0m\n\u001b[0;32m    170\u001b[0m         estimator\u001b[38;5;241m=\u001b[39mestimator,\n\u001b[0;32m    171\u001b[0m     )\n\u001b[1;32m--> 172\u001b[0m     Y \u001b[38;5;241m=\u001b[39m \u001b[43mcheck_array\u001b[49m\u001b[43m(\u001b[49m\n\u001b[0;32m    173\u001b[0m \u001b[43m        \u001b[49m\u001b[43mY\u001b[49m\u001b[43m,\u001b[49m\n\u001b[0;32m    174\u001b[0m \u001b[43m        \u001b[49m\u001b[43maccept_sparse\u001b[49m\u001b[38;5;241;43m=\u001b[39;49m\u001b[43maccept_sparse\u001b[49m\u001b[43m,\u001b[49m\n\u001b[0;32m    175\u001b[0m \u001b[43m        \u001b[49m\u001b[43mdtype\u001b[49m\u001b[38;5;241;43m=\u001b[39;49m\u001b[43mdtype\u001b[49m\u001b[43m,\u001b[49m\n\u001b[0;32m    176\u001b[0m \u001b[43m        \u001b[49m\u001b[43mcopy\u001b[49m\u001b[38;5;241;43m=\u001b[39;49m\u001b[43mcopy\u001b[49m\u001b[43m,\u001b[49m\n\u001b[0;32m    177\u001b[0m \u001b[43m        \u001b[49m\u001b[43mforce_all_finite\u001b[49m\u001b[38;5;241;43m=\u001b[39;49m\u001b[43mforce_all_finite\u001b[49m\u001b[43m,\u001b[49m\n\u001b[0;32m    178\u001b[0m \u001b[43m        \u001b[49m\u001b[43mestimator\u001b[49m\u001b[38;5;241;43m=\u001b[39;49m\u001b[43mestimator\u001b[49m\u001b[43m,\u001b[49m\n\u001b[0;32m    179\u001b[0m \u001b[43m    \u001b[49m\u001b[43m)\u001b[49m\n\u001b[0;32m    181\u001b[0m \u001b[38;5;28;01mif\u001b[39;00m precomputed:\n\u001b[0;32m    182\u001b[0m     \u001b[38;5;28;01mif\u001b[39;00m X\u001b[38;5;241m.\u001b[39mshape[\u001b[38;5;241m1\u001b[39m] \u001b[38;5;241m!=\u001b[39m Y\u001b[38;5;241m.\u001b[39mshape[\u001b[38;5;241m0\u001b[39m]:\n",
      "File \u001b[1;32md:\\Lovaion\\University\\2nd Year\\Erasmus\\Information Processing and Retrieval\\.venv\\lib\\site-packages\\sklearn\\utils\\validation.py:1035\u001b[0m, in \u001b[0;36mcheck_array\u001b[1;34m(array, accept_sparse, accept_large_sparse, dtype, order, copy, force_all_finite, ensure_2d, allow_nd, ensure_min_samples, ensure_min_features, estimator, input_name)\u001b[0m\n\u001b[0;32m   1028\u001b[0m         \u001b[38;5;28;01melse\u001b[39;00m:\n\u001b[0;32m   1029\u001b[0m             msg \u001b[38;5;241m=\u001b[39m (\n\u001b[0;32m   1030\u001b[0m                 \u001b[38;5;124mf\u001b[39m\u001b[38;5;124m\"\u001b[39m\u001b[38;5;124mExpected 2D array, got 1D array instead:\u001b[39m\u001b[38;5;130;01m\\n\u001b[39;00m\u001b[38;5;124marray=\u001b[39m\u001b[38;5;132;01m{\u001b[39;00marray\u001b[38;5;132;01m}\u001b[39;00m\u001b[38;5;124m.\u001b[39m\u001b[38;5;130;01m\\n\u001b[39;00m\u001b[38;5;124m\"\u001b[39m\n\u001b[0;32m   1031\u001b[0m                 \u001b[38;5;124m\"\u001b[39m\u001b[38;5;124mReshape your data either using array.reshape(-1, 1) if \u001b[39m\u001b[38;5;124m\"\u001b[39m\n\u001b[0;32m   1032\u001b[0m                 \u001b[38;5;124m\"\u001b[39m\u001b[38;5;124myour data has a single feature or array.reshape(1, -1) \u001b[39m\u001b[38;5;124m\"\u001b[39m\n\u001b[0;32m   1033\u001b[0m                 \u001b[38;5;124m\"\u001b[39m\u001b[38;5;124mif it contains a single sample.\u001b[39m\u001b[38;5;124m\"\u001b[39m\n\u001b[0;32m   1034\u001b[0m             )\n\u001b[1;32m-> 1035\u001b[0m         \u001b[38;5;28;01mraise\u001b[39;00m \u001b[38;5;167;01mValueError\u001b[39;00m(msg)\n\u001b[0;32m   1037\u001b[0m \u001b[38;5;28;01mif\u001b[39;00m dtype_numeric \u001b[38;5;129;01mand\u001b[39;00m \u001b[38;5;28mhasattr\u001b[39m(array\u001b[38;5;241m.\u001b[39mdtype, \u001b[38;5;124m\"\u001b[39m\u001b[38;5;124mkind\u001b[39m\u001b[38;5;124m\"\u001b[39m) \u001b[38;5;129;01mand\u001b[39;00m array\u001b[38;5;241m.\u001b[39mdtype\u001b[38;5;241m.\u001b[39mkind \u001b[38;5;129;01min\u001b[39;00m \u001b[38;5;124m\"\u001b[39m\u001b[38;5;124mUSV\u001b[39m\u001b[38;5;124m\"\u001b[39m:\n\u001b[0;32m   1038\u001b[0m     \u001b[38;5;28;01mraise\u001b[39;00m \u001b[38;5;167;01mValueError\u001b[39;00m(\n\u001b[0;32m   1039\u001b[0m         \u001b[38;5;124m\"\u001b[39m\u001b[38;5;124mdtype=\u001b[39m\u001b[38;5;124m'\u001b[39m\u001b[38;5;124mnumeric\u001b[39m\u001b[38;5;124m'\u001b[39m\u001b[38;5;124m is not compatible with arrays of bytes/strings.\u001b[39m\u001b[38;5;124m\"\u001b[39m\n\u001b[0;32m   1040\u001b[0m         \u001b[38;5;124m\"\u001b[39m\u001b[38;5;124mConvert your data to numeric values explicitly instead.\u001b[39m\u001b[38;5;124m\"\u001b[39m\n\u001b[0;32m   1041\u001b[0m     )\n",
      "\u001b[1;31mValueError\u001b[0m: Expected 2D array, got 1D array instead:\narray=[0.14131551 0.10097666 0.10097666 0.14131551 0.14131551 0.14131551\n 0.10097666 0.10097666 0.10097666 0.10097666 0.10097666 0.14131551\n 0.10097666 0.17239288 0.20195332 0.10097666 0.10097666 0.14131551\n 0.10097666 0.14131551 0.10097666 0.14131551 0.14131551 0.10097666\n 0.17239288 0.14131551 0.10097666 0.10097666 0.10097666 0.10097666\n 0.10097666 0.14131551 0.10097666 0.17239288].\nReshape your data either using array.reshape(-1, 1) if your data has a single feature or array.reshape(1, -1) if it contains a single sample."
     ]
    }
   ],
   "source": [
    "# Try with doc 0\n",
    "doc = documents[0]\n",
    "\n",
    "clusters = sentence_clustering(doc)\n",
    "summarization(doc, clusters)"
   ]
  },
  {
   "cell_type": "markdown",
   "metadata": {},
   "source": [
    "*C) Keyword extraction*"
   ]
  },
  {
   "cell_type": "code",
   "execution_count": 10,
   "metadata": {},
   "outputs": [],
   "source": [
    "#code, statistics and/or charts here"
   ]
  },
  {
   "cell_type": "markdown",
   "metadata": {},
   "source": [
    "*D) Evaluation*"
   ]
  },
  {
   "cell_type": "code",
   "execution_count": 11,
   "metadata": {},
   "outputs": [],
   "source": [
    "#code, statistics and/or charts here"
   ]
  },
  {
   "cell_type": "markdown",
   "metadata": {},
   "source": [
    "<h3>Part II: classification</h3>"
   ]
  },
  {
   "cell_type": "markdown",
   "metadata": {},
   "source": [
    "*A) Feature extraction*"
   ]
  },
  {
   "cell_type": "code",
   "execution_count": 12,
   "metadata": {},
   "outputs": [],
   "source": [
    "#code and statistics here"
   ]
  },
  {
   "cell_type": "markdown",
   "metadata": {},
   "source": [
    "*B) Classification*"
   ]
  },
  {
   "cell_type": "code",
   "execution_count": 13,
   "metadata": {},
   "outputs": [],
   "source": [
    "#code here"
   ]
  },
  {
   "cell_type": "markdown",
   "metadata": {},
   "source": [
    "*C) Ranking extension*"
   ]
  },
  {
   "cell_type": "code",
   "execution_count": 14,
   "metadata": {},
   "outputs": [],
   "source": [
    "#code here"
   ]
  },
  {
   "cell_type": "markdown",
   "metadata": {},
   "source": [
    "*D) Evaluation*"
   ]
  },
  {
   "cell_type": "code",
   "execution_count": 15,
   "metadata": {},
   "outputs": [],
   "source": [
    "#code, statistics and/or charts here"
   ]
  },
  {
   "cell_type": "markdown",
   "metadata": {},
   "source": [
    "<H2>Question materials (optional)</H2>"
   ]
  },
  {
   "cell_type": "markdown",
   "metadata": {},
   "source": [
    "<H3>Part I: clustering</H3>"
   ]
  },
  {
   "cell_type": "markdown",
   "metadata": {},
   "source": [
    "**(1)** Do clustering-guided summarization alters the behavior and efficacy of the IR system?"
   ]
  },
  {
   "cell_type": "code",
   "execution_count": 16,
   "metadata": {},
   "outputs": [],
   "source": [
    "#code, statistics and/or charts here"
   ]
  },
  {
   "cell_type": "markdown",
   "metadata": {},
   "source": [
    "**(2)** How sentence representations, clustering choices, and rank criteria impact summarization?"
   ]
  },
  {
   "cell_type": "code",
   "execution_count": 17,
   "metadata": {},
   "outputs": [],
   "source": [
    "#code, statistics and/or charts here"
   ]
  },
  {
   "cell_type": "markdown",
   "metadata": {},
   "source": [
    "**...** (additional questions with empirical results)"
   ]
  },
  {
   "cell_type": "markdown",
   "metadata": {},
   "source": [
    "<H3>END</H3>"
   ]
  }
 ],
 "metadata": {
  "kernelspec": {
   "display_name": "Python 3 (ipykernel)",
   "language": "python",
   "name": "python3"
  },
  "language_info": {
   "codemirror_mode": {
    "name": "ipython",
    "version": 3
   },
   "file_extension": ".py",
   "mimetype": "text/x-python",
   "name": "python",
   "nbconvert_exporter": "python",
   "pygments_lexer": "ipython3",
   "version": "3.9.8"
  }
 },
 "nbformat": 4,
 "nbformat_minor": 4
}
